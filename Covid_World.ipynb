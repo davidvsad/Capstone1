{
 "cells": [
  {
   "cell_type": "code",
   "execution_count": 4,
   "metadata": {
    "id": "cKHLz-PdBCsl"
   },
   "outputs": [],
   "source": [
    "import math\n",
    "import pandas as pd\n",
    "import numpy as np\n",
    "from scipy import stats\n",
    "import matplotlib.pyplot as plt\n",
    "import seaborn as sns\n",
    "import sklearn as sk"
   ]
  },
  {
   "cell_type": "code",
   "execution_count": 5,
   "metadata": {
    "colab": {
     "base_uri": "https://localhost:8080/"
    },
    "id": "G87QGZKUBESX",
    "outputId": "61b9f02c-0125-4b74-cc99-86df9cc813c1"
   },
   "outputs": [
    {
     "data": {
      "text/plain": [
       "#                         object\n",
       "Country, Other            object\n",
       "Total Cases               object\n",
       "New Cases                 object\n",
       "Total Deaths              object\n",
       "New Deaths                object\n",
       "Total Recovered           object\n",
       "Active Cases              object\n",
       "Serious, Critical         object\n",
       "Total Cases per 1M pop    object\n",
       "Deaths per 1M pop         object\n",
       "Total Tests               object\n",
       "Tests per 1M pop          object\n",
       "Population                object\n",
       "dtype: object"
      ]
     },
     "execution_count": 5,
     "metadata": {},
     "output_type": "execute_result"
    }
   ],
   "source": [
    "covid_df = pd.read_csv('WorldMeter13_Jan_20201A.csv')\n",
    "covid_df.dtypes"
   ]
  },
  {
   "cell_type": "code",
   "execution_count": 6,
   "metadata": {
    "id": "DHxH1QQndqzG"
   },
   "outputs": [],
   "source": [
    "#covid_df.dropna(inplace = True)\n",
    "#before=covid_df.dtypes"
   ]
  },
  {
   "cell_type": "code",
   "execution_count": 7,
   "metadata": {
    "id": "UKgUSTagd8DC"
   },
   "outputs": [],
   "source": [
    "#covid_df[\"Total Tests\"] = covid_df[\"Total Tests\"].astype(int)"
   ]
  },
  {
   "cell_type": "code",
   "execution_count": 8,
   "metadata": {
    "colab": {
     "base_uri": "https://localhost:8080/",
     "height": 215
    },
    "id": "R4jhtMO8h7_k",
    "outputId": "fe4898e0-3cfa-4e8f-a517-d97901b645af"
   },
   "outputs": [
    {
     "data": {
      "text/html": [
       "<div>\n",
       "<style scoped>\n",
       "    .dataframe tbody tr th:only-of-type {\n",
       "        vertical-align: middle;\n",
       "    }\n",
       "\n",
       "    .dataframe tbody tr th {\n",
       "        vertical-align: top;\n",
       "    }\n",
       "\n",
       "    .dataframe thead th {\n",
       "        text-align: right;\n",
       "    }\n",
       "</style>\n",
       "<table border=\"1\" class=\"dataframe\">\n",
       "  <thead>\n",
       "    <tr style=\"text-align: right;\">\n",
       "      <th></th>\n",
       "      <th>#</th>\n",
       "      <th>Country, Other</th>\n",
       "      <th>Total Cases</th>\n",
       "      <th>New Cases</th>\n",
       "      <th>Total Deaths</th>\n",
       "      <th>New Deaths</th>\n",
       "      <th>Total Recovered</th>\n",
       "      <th>Active Cases</th>\n",
       "      <th>Serious, Critical</th>\n",
       "      <th>Total Cases per 1M pop</th>\n",
       "      <th>Deaths per 1M pop</th>\n",
       "      <th>Total Tests</th>\n",
       "      <th>Tests per 1M pop</th>\n",
       "      <th>Population</th>\n",
       "    </tr>\n",
       "  </thead>\n",
       "  <tbody>\n",
       "    <tr>\n",
       "      <th>198</th>\n",
       "      <td>113</td>\n",
       "      <td>Madagascar</td>\n",
       "      <td>18,001</td>\n",
       "      <td>NaN</td>\n",
       "      <td>267</td>\n",
       "      <td>NaN</td>\n",
       "      <td>17,447</td>\n",
       "      <td>287</td>\n",
       "      <td>16</td>\n",
       "      <td>641</td>\n",
       "      <td>10</td>\n",
       "      <td>102,830</td>\n",
       "      <td>3,664</td>\n",
       "      <td>28,065,975</td>\n",
       "    </tr>\n",
       "    <tr>\n",
       "      <th>199</th>\n",
       "      <td>156</td>\n",
       "      <td>Niger</td>\n",
       "      <td>3,969</td>\n",
       "      <td>NaN</td>\n",
       "      <td>135</td>\n",
       "      <td>NaN</td>\n",
       "      <td>2,507</td>\n",
       "      <td>1,327</td>\n",
       "      <td>3</td>\n",
       "      <td>161</td>\n",
       "      <td>5</td>\n",
       "      <td>67,052</td>\n",
       "      <td>2,719</td>\n",
       "      <td>24,664,421</td>\n",
       "    </tr>\n",
       "    <tr>\n",
       "      <th>200</th>\n",
       "      <td>168</td>\n",
       "      <td>Yemen</td>\n",
       "      <td>2,107</td>\n",
       "      <td>NaN</td>\n",
       "      <td>612</td>\n",
       "      <td>NaN</td>\n",
       "      <td>1,416</td>\n",
       "      <td>79</td>\n",
       "      <td>23</td>\n",
       "      <td>70</td>\n",
       "      <td>20</td>\n",
       "      <td>17,404</td>\n",
       "      <td>577</td>\n",
       "      <td>30,172,929</td>\n",
       "    </tr>\n",
       "    <tr>\n",
       "      <th>201</th>\n",
       "      <td>\\r</td>\n",
       "      <td>NaN</td>\n",
       "      <td>NaN</td>\n",
       "      <td>NaN</td>\n",
       "      <td>NaN</td>\n",
       "      <td>NaN</td>\n",
       "      <td>NaN</td>\n",
       "      <td>NaN</td>\n",
       "      <td>NaN</td>\n",
       "      <td>NaN</td>\n",
       "      <td>NaN</td>\n",
       "      <td>NaN</td>\n",
       "      <td>NaN</td>\n",
       "      <td>NaN</td>\n",
       "    </tr>\n",
       "    <tr>\n",
       "      <th>202</th>\n",
       "      <td>NaN</td>\n",
       "      <td>Total:</td>\n",
       "      <td>92,414,520</td>\n",
       "      <td>418,662</td>\n",
       "      <td>1,978,954</td>\n",
       "      <td>10,040</td>\n",
       "      <td>66,054,534</td>\n",
       "      <td>24,381,032</td>\n",
       "      <td>110,689</td>\n",
       "      <td>11,855.90</td>\n",
       "      <td>253.9</td>\n",
       "      <td>NaN</td>\n",
       "      <td>NaN</td>\n",
       "      <td>NaN</td>\n",
       "    </tr>\n",
       "  </tbody>\n",
       "</table>\n",
       "</div>"
      ],
      "text/plain": [
       "       # Country, Other Total Cases New Cases Total Deaths New Deaths  \\\n",
       "198  113     Madagascar      18,001       NaN          267        NaN   \n",
       "199  156          Niger       3,969       NaN          135        NaN   \n",
       "200  168          Yemen       2,107       NaN          612        NaN   \n",
       "201   \\r            NaN         NaN       NaN          NaN        NaN   \n",
       "202  NaN         Total:  92,414,520   418,662    1,978,954     10,040   \n",
       "\n",
       "    Total Recovered Active Cases Serious, Critical Total Cases per 1M pop  \\\n",
       "198          17,447          287                16                    641   \n",
       "199           2,507        1,327                 3                    161   \n",
       "200           1,416           79                23                     70   \n",
       "201             NaN          NaN               NaN                    NaN   \n",
       "202      66,054,534   24,381,032           110,689              11,855.90   \n",
       "\n",
       "    Deaths per 1M pop Total Tests Tests per 1M pop  Population  \n",
       "198                10     102,830            3,664  28,065,975  \n",
       "199                 5      67,052            2,719  24,664,421  \n",
       "200                20      17,404              577  30,172,929  \n",
       "201               NaN         NaN              NaN         NaN  \n",
       "202             253.9         NaN              NaN         NaN  "
      ]
     },
     "execution_count": 8,
     "metadata": {},
     "output_type": "execute_result"
    }
   ],
   "source": [
    "#print(type(covid_df))\n",
    "covid_df.tail()\n"
   ]
  },
  {
   "cell_type": "code",
   "execution_count": 9,
   "metadata": {
    "id": "j8flCxrkjHcR"
   },
   "outputs": [],
   "source": [
    "covid_df=covid_df.apply(lambda x: x.str.replace(',',''))"
   ]
  },
  {
   "cell_type": "code",
   "execution_count": 10,
   "metadata": {
    "colab": {
     "base_uri": "https://localhost:8080/",
     "height": 578
    },
    "id": "sPZsqTVt0Oum",
    "outputId": "58d02f13-6233-4e58-a436-b3219ca4c287"
   },
   "outputs": [
    {
     "name": "stdout",
     "output_type": "stream",
     "text": [
      "<class 'pandas.core.frame.DataFrame'>\n",
      "RangeIndex: 203 entries, 0 to 202\n",
      "Data columns (total 14 columns):\n",
      " #   Column                  Non-Null Count  Dtype \n",
      "---  ------                  --------------  ----- \n",
      " 0   #                       202 non-null    object\n",
      " 1   Country, Other          202 non-null    object\n",
      " 2   Total Cases             202 non-null    object\n",
      " 3   New Cases               120 non-null    object\n",
      " 4   Total Deaths            188 non-null    object\n",
      " 5   New Deaths              87 non-null     object\n",
      " 6   Total Recovered         199 non-null    object\n",
      " 7   Active Cases            199 non-null    object\n",
      " 8   Serious, Critical       145 non-null    object\n",
      " 9   Total Cases per 1M pop  202 non-null    object\n",
      " 10  Deaths per 1M pop       188 non-null    object\n",
      " 11  Total Tests             201 non-null    object\n",
      " 12  Tests per 1M pop        201 non-null    object\n",
      " 13  Population              201 non-null    object\n",
      "dtypes: object(14)\n",
      "memory usage: 22.3+ KB\n"
     ]
    },
    {
     "data": {
      "text/html": [
       "<div>\n",
       "<style scoped>\n",
       "    .dataframe tbody tr th:only-of-type {\n",
       "        vertical-align: middle;\n",
       "    }\n",
       "\n",
       "    .dataframe tbody tr th {\n",
       "        vertical-align: top;\n",
       "    }\n",
       "\n",
       "    .dataframe thead th {\n",
       "        text-align: right;\n",
       "    }\n",
       "</style>\n",
       "<table border=\"1\" class=\"dataframe\">\n",
       "  <thead>\n",
       "    <tr style=\"text-align: right;\">\n",
       "      <th></th>\n",
       "      <th>#</th>\n",
       "      <th>Country, Other</th>\n",
       "      <th>Total Cases</th>\n",
       "      <th>New Cases</th>\n",
       "      <th>Total Deaths</th>\n",
       "      <th>New Deaths</th>\n",
       "      <th>Total Recovered</th>\n",
       "      <th>Active Cases</th>\n",
       "      <th>Serious, Critical</th>\n",
       "      <th>Total Cases per 1M pop</th>\n",
       "      <th>Deaths per 1M pop</th>\n",
       "      <th>Total Tests</th>\n",
       "      <th>Tests per 1M pop</th>\n",
       "      <th>Population</th>\n",
       "    </tr>\n",
       "  </thead>\n",
       "  <tbody>\n",
       "    <tr>\n",
       "      <th>198</th>\n",
       "      <td>113</td>\n",
       "      <td>Madagascar</td>\n",
       "      <td>18001</td>\n",
       "      <td>NaN</td>\n",
       "      <td>267</td>\n",
       "      <td>NaN</td>\n",
       "      <td>17447</td>\n",
       "      <td>287</td>\n",
       "      <td>16</td>\n",
       "      <td>641</td>\n",
       "      <td>10</td>\n",
       "      <td>102830</td>\n",
       "      <td>3664</td>\n",
       "      <td>28065975</td>\n",
       "    </tr>\n",
       "    <tr>\n",
       "      <th>199</th>\n",
       "      <td>156</td>\n",
       "      <td>Niger</td>\n",
       "      <td>3969</td>\n",
       "      <td>NaN</td>\n",
       "      <td>135</td>\n",
       "      <td>NaN</td>\n",
       "      <td>2507</td>\n",
       "      <td>1327</td>\n",
       "      <td>3</td>\n",
       "      <td>161</td>\n",
       "      <td>5</td>\n",
       "      <td>67052</td>\n",
       "      <td>2719</td>\n",
       "      <td>24664421</td>\n",
       "    </tr>\n",
       "    <tr>\n",
       "      <th>200</th>\n",
       "      <td>168</td>\n",
       "      <td>Yemen</td>\n",
       "      <td>2107</td>\n",
       "      <td>NaN</td>\n",
       "      <td>612</td>\n",
       "      <td>NaN</td>\n",
       "      <td>1416</td>\n",
       "      <td>79</td>\n",
       "      <td>23</td>\n",
       "      <td>70</td>\n",
       "      <td>20</td>\n",
       "      <td>17404</td>\n",
       "      <td>577</td>\n",
       "      <td>30172929</td>\n",
       "    </tr>\n",
       "    <tr>\n",
       "      <th>201</th>\n",
       "      <td>\\r</td>\n",
       "      <td>NaN</td>\n",
       "      <td>NaN</td>\n",
       "      <td>NaN</td>\n",
       "      <td>NaN</td>\n",
       "      <td>NaN</td>\n",
       "      <td>NaN</td>\n",
       "      <td>NaN</td>\n",
       "      <td>NaN</td>\n",
       "      <td>NaN</td>\n",
       "      <td>NaN</td>\n",
       "      <td>NaN</td>\n",
       "      <td>NaN</td>\n",
       "      <td>NaN</td>\n",
       "    </tr>\n",
       "    <tr>\n",
       "      <th>202</th>\n",
       "      <td>NaN</td>\n",
       "      <td>Total:</td>\n",
       "      <td>92414520</td>\n",
       "      <td>418662</td>\n",
       "      <td>1978954</td>\n",
       "      <td>10040</td>\n",
       "      <td>66054534</td>\n",
       "      <td>24381032</td>\n",
       "      <td>110689</td>\n",
       "      <td>11855.90</td>\n",
       "      <td>253.9</td>\n",
       "      <td>NaN</td>\n",
       "      <td>NaN</td>\n",
       "      <td>NaN</td>\n",
       "    </tr>\n",
       "  </tbody>\n",
       "</table>\n",
       "</div>"
      ],
      "text/plain": [
       "       # Country, Other Total Cases New Cases Total Deaths New Deaths  \\\n",
       "198  113     Madagascar       18001       NaN          267        NaN   \n",
       "199  156          Niger        3969       NaN          135        NaN   \n",
       "200  168          Yemen        2107       NaN          612        NaN   \n",
       "201   \\r            NaN         NaN       NaN          NaN        NaN   \n",
       "202  NaN         Total:    92414520    418662      1978954      10040   \n",
       "\n",
       "    Total Recovered Active Cases Serious, Critical Total Cases per 1M pop  \\\n",
       "198           17447          287                16                    641   \n",
       "199            2507         1327                 3                    161   \n",
       "200            1416           79                23                     70   \n",
       "201             NaN          NaN               NaN                    NaN   \n",
       "202        66054534     24381032            110689               11855.90   \n",
       "\n",
       "    Deaths per 1M pop Total Tests Tests per 1M pop Population  \n",
       "198                10      102830             3664   28065975  \n",
       "199                 5       67052             2719   24664421  \n",
       "200                20       17404              577   30172929  \n",
       "201               NaN         NaN              NaN        NaN  \n",
       "202             253.9         NaN              NaN        NaN  "
      ]
     },
     "execution_count": 10,
     "metadata": {},
     "output_type": "execute_result"
    }
   ],
   "source": [
    "covid_df.info()\n",
    "covid_df.tail()"
   ]
  },
  {
   "cell_type": "code",
   "execution_count": 11,
   "metadata": {
    "colab": {
     "base_uri": "https://localhost:8080/"
    },
    "id": "TtFMRgrKhZaa",
    "outputId": "7439c0df-10c0-485f-f319-0ccf4a1eac4e"
   },
   "outputs": [
    {
     "data": {
      "text/plain": [
       "(203, 14)"
      ]
     },
     "execution_count": 11,
     "metadata": {},
     "output_type": "execute_result"
    }
   ],
   "source": [
    "covid_df=covid_df.apply(lambda x: pd.to_numeric(x,errors='ignore'))\n",
    "#pd.to_numeric(covid_df)\n",
    "covid_df.shape\n",
    "#covid_df.info()\n",
    "#covid_df.tail()"
   ]
  },
  {
   "cell_type": "code",
   "execution_count": 12,
   "metadata": {
    "colab": {
     "base_uri": "https://localhost:8080/"
    },
    "id": "JmCZPKOdiBgM",
    "outputId": "822473e5-d13c-4fa3-fb5c-cd9455457db7"
   },
   "outputs": [
    {
     "data": {
      "text/plain": [
       "count    2.010000e+02\n",
       "mean     6.619139e+06\n",
       "std      2.723159e+07\n",
       "min      6.260000e+02\n",
       "25%      7.676300e+04\n",
       "50%      5.733330e+05\n",
       "75%      3.064639e+06\n",
       "max      2.759259e+08\n",
       "Name: Total Tests, dtype: float64"
      ]
     },
     "execution_count": 12,
     "metadata": {},
     "output_type": "execute_result"
    }
   ],
   "source": [
    "\n",
    "covid_df['Total Tests'].describe()"
   ]
  },
  {
   "cell_type": "code",
   "execution_count": 13,
   "metadata": {
    "colab": {
     "base_uri": "https://localhost:8080/",
     "height": 343
    },
    "id": "JCyxSq4ViH0K",
    "outputId": "7af4a288-1d57-4ac6-df1b-8542da91db11"
   },
   "outputs": [
    {
     "data": {
      "text/html": [
       "<div>\n",
       "<style scoped>\n",
       "    .dataframe tbody tr th:only-of-type {\n",
       "        vertical-align: middle;\n",
       "    }\n",
       "\n",
       "    .dataframe tbody tr th {\n",
       "        vertical-align: top;\n",
       "    }\n",
       "\n",
       "    .dataframe thead th {\n",
       "        text-align: right;\n",
       "    }\n",
       "</style>\n",
       "<table border=\"1\" class=\"dataframe\">\n",
       "  <thead>\n",
       "    <tr style=\"text-align: right;\">\n",
       "      <th></th>\n",
       "      <th>Total Cases</th>\n",
       "      <th>New Cases</th>\n",
       "      <th>Total Deaths</th>\n",
       "      <th>New Deaths</th>\n",
       "      <th>Total Recovered</th>\n",
       "      <th>Active Cases</th>\n",
       "      <th>Serious, Critical</th>\n",
       "      <th>Total Cases per 1M pop</th>\n",
       "      <th>Deaths per 1M pop</th>\n",
       "      <th>Total Tests</th>\n",
       "      <th>Tests per 1M pop</th>\n",
       "      <th>Population</th>\n",
       "    </tr>\n",
       "  </thead>\n",
       "  <tbody>\n",
       "    <tr>\n",
       "      <th>count</th>\n",
       "      <td>2.020000e+02</td>\n",
       "      <td>120.000000</td>\n",
       "      <td>1.880000e+02</td>\n",
       "      <td>87.000000</td>\n",
       "      <td>1.990000e+02</td>\n",
       "      <td>1.990000e+02</td>\n",
       "      <td>145.000000</td>\n",
       "      <td>202.000000</td>\n",
       "      <td>188.000000</td>\n",
       "      <td>2.010000e+02</td>\n",
       "      <td>2.010000e+02</td>\n",
       "      <td>2.010000e+02</td>\n",
       "    </tr>\n",
       "    <tr>\n",
       "      <th>mean</th>\n",
       "      <td>9.140025e+05</td>\n",
       "      <td>6963.533333</td>\n",
       "      <td>2.101827e+04</td>\n",
       "      <td>230.195402</td>\n",
       "      <td>6.620680e+05</td>\n",
       "      <td>2.282583e+05</td>\n",
       "      <td>1526.406897</td>\n",
       "      <td>19057.068812</td>\n",
       "      <td>344.709574</td>\n",
       "      <td>6.619139e+06</td>\n",
       "      <td>4.118378e+05</td>\n",
       "      <td>3.712032e+07</td>\n",
       "    </tr>\n",
       "    <tr>\n",
       "      <th>std</th>\n",
       "      <td>6.755514e+06</td>\n",
       "      <td>38821.571101</td>\n",
       "      <td>1.483012e+05</td>\n",
       "      <td>1099.666163</td>\n",
       "      <td>4.851283e+06</td>\n",
       "      <td>1.854085e+06</td>\n",
       "      <td>9528.442352</td>\n",
       "      <td>22202.630229</td>\n",
       "      <td>417.729949</td>\n",
       "      <td>2.723159e+07</td>\n",
       "      <td>1.152016e+06</td>\n",
       "      <td>1.460064e+08</td>\n",
       "    </tr>\n",
       "    <tr>\n",
       "      <th>min</th>\n",
       "      <td>4.000000e+00</td>\n",
       "      <td>1.000000</td>\n",
       "      <td>1.000000e+00</td>\n",
       "      <td>1.000000</td>\n",
       "      <td>1.000000e+00</td>\n",
       "      <td>0.000000e+00</td>\n",
       "      <td>1.000000</td>\n",
       "      <td>6.000000</td>\n",
       "      <td>0.200000</td>\n",
       "      <td>6.260000e+02</td>\n",
       "      <td>5.770000e+02</td>\n",
       "      <td>3.533000e+03</td>\n",
       "    </tr>\n",
       "    <tr>\n",
       "      <th>25%</th>\n",
       "      <td>3.490750e+03</td>\n",
       "      <td>92.000000</td>\n",
       "      <td>6.675000e+01</td>\n",
       "      <td>7.000000</td>\n",
       "      <td>2.250500e+03</td>\n",
       "      <td>2.595000e+02</td>\n",
       "      <td>10.000000</td>\n",
       "      <td>1381.000000</td>\n",
       "      <td>24.750000</td>\n",
       "      <td>7.676300e+04</td>\n",
       "      <td>3.895400e+04</td>\n",
       "      <td>6.957640e+05</td>\n",
       "    </tr>\n",
       "    <tr>\n",
       "      <th>50%</th>\n",
       "      <td>2.891500e+04</td>\n",
       "      <td>680.000000</td>\n",
       "      <td>5.235000e+02</td>\n",
       "      <td>25.000000</td>\n",
       "      <td>2.009900e+04</td>\n",
       "      <td>3.504000e+03</td>\n",
       "      <td>68.000000</td>\n",
       "      <td>10425.000000</td>\n",
       "      <td>170.500000</td>\n",
       "      <td>5.733330e+05</td>\n",
       "      <td>1.439050e+05</td>\n",
       "      <td>5.874894e+06</td>\n",
       "    </tr>\n",
       "    <tr>\n",
       "      <th>75%</th>\n",
       "      <td>2.137615e+05</td>\n",
       "      <td>2446.500000</td>\n",
       "      <td>4.417250e+03</td>\n",
       "      <td>83.500000</td>\n",
       "      <td>1.444835e+05</td>\n",
       "      <td>2.458800e+04</td>\n",
       "      <td>356.000000</td>\n",
       "      <td>30325.250000</td>\n",
       "      <td>500.000000</td>\n",
       "      <td>3.064639e+06</td>\n",
       "      <td>3.880420e+05</td>\n",
       "      <td>2.466442e+07</td>\n",
       "    </tr>\n",
       "    <tr>\n",
       "      <th>max</th>\n",
       "      <td>9.241452e+07</td>\n",
       "      <td>418662.000000</td>\n",
       "      <td>1.978954e+06</td>\n",
       "      <td>10040.000000</td>\n",
       "      <td>6.605453e+07</td>\n",
       "      <td>2.438103e+07</td>\n",
       "      <td>110689.000000</td>\n",
       "      <td>114029.000000</td>\n",
       "      <td>1914.000000</td>\n",
       "      <td>2.759259e+08</td>\n",
       "      <td>1.435283e+07</td>\n",
       "      <td>1.439324e+09</td>\n",
       "    </tr>\n",
       "  </tbody>\n",
       "</table>\n",
       "</div>"
      ],
      "text/plain": [
       "        Total Cases      New Cases  Total Deaths    New Deaths  \\\n",
       "count  2.020000e+02     120.000000  1.880000e+02     87.000000   \n",
       "mean   9.140025e+05    6963.533333  2.101827e+04    230.195402   \n",
       "std    6.755514e+06   38821.571101  1.483012e+05   1099.666163   \n",
       "min    4.000000e+00       1.000000  1.000000e+00      1.000000   \n",
       "25%    3.490750e+03      92.000000  6.675000e+01      7.000000   \n",
       "50%    2.891500e+04     680.000000  5.235000e+02     25.000000   \n",
       "75%    2.137615e+05    2446.500000  4.417250e+03     83.500000   \n",
       "max    9.241452e+07  418662.000000  1.978954e+06  10040.000000   \n",
       "\n",
       "       Total Recovered  Active Cases  Serious, Critical  \\\n",
       "count     1.990000e+02  1.990000e+02         145.000000   \n",
       "mean      6.620680e+05  2.282583e+05        1526.406897   \n",
       "std       4.851283e+06  1.854085e+06        9528.442352   \n",
       "min       1.000000e+00  0.000000e+00           1.000000   \n",
       "25%       2.250500e+03  2.595000e+02          10.000000   \n",
       "50%       2.009900e+04  3.504000e+03          68.000000   \n",
       "75%       1.444835e+05  2.458800e+04         356.000000   \n",
       "max       6.605453e+07  2.438103e+07      110689.000000   \n",
       "\n",
       "       Total Cases per 1M pop  Deaths per 1M pop   Total Tests  \\\n",
       "count              202.000000         188.000000  2.010000e+02   \n",
       "mean             19057.068812         344.709574  6.619139e+06   \n",
       "std              22202.630229         417.729949  2.723159e+07   \n",
       "min                  6.000000           0.200000  6.260000e+02   \n",
       "25%               1381.000000          24.750000  7.676300e+04   \n",
       "50%              10425.000000         170.500000  5.733330e+05   \n",
       "75%              30325.250000         500.000000  3.064639e+06   \n",
       "max             114029.000000        1914.000000  2.759259e+08   \n",
       "\n",
       "       Tests per 1M pop    Population  \n",
       "count      2.010000e+02  2.010000e+02  \n",
       "mean       4.118378e+05  3.712032e+07  \n",
       "std        1.152016e+06  1.460064e+08  \n",
       "min        5.770000e+02  3.533000e+03  \n",
       "25%        3.895400e+04  6.957640e+05  \n",
       "50%        1.439050e+05  5.874894e+06  \n",
       "75%        3.880420e+05  2.466442e+07  \n",
       "max        1.435283e+07  1.439324e+09  "
      ]
     },
     "execution_count": 13,
     "metadata": {},
     "output_type": "execute_result"
    }
   ],
   "source": [
    "covid_df.describe()"
   ]
  },
  {
   "cell_type": "markdown",
   "metadata": {
    "id": "0pzVJ_DB15k0"
   },
   "source": [
    " This method calculates the Pearson correlation coefficient between the two columns. This coefficient is a number between -1 and 1. A 1 means that a strong relationship exists, a -1 means that a strong negative relationship exists, and a 0 means that there is no relationship at all."
   ]
  },
  {
   "cell_type": "code",
   "execution_count": 14,
   "metadata": {
    "colab": {
     "base_uri": "https://localhost:8080/"
    },
    "id": "ll8WtVhn01QO",
    "outputId": "3646b9da-02d2-4d4d-a1a3-d95e77a9eeaa"
   },
   "outputs": [
    {
     "data": {
      "text/plain": [
       "0.33044405287109585"
      ]
     },
     "execution_count": 14,
     "metadata": {},
     "output_type": "execute_result"
    }
   ],
   "source": [
    "covid_df['Tests per 1M pop'].corr(covid_df['Total Cases per 1M pop'])"
   ]
  },
  {
   "cell_type": "code",
   "execution_count": 15,
   "metadata": {
    "colab": {
     "base_uri": "https://localhost:8080/",
     "height": 138
    },
    "id": "uWvHGyQz1Sfr",
    "outputId": "d9560629-50cc-4ddf-c7c4-7129d840f723"
   },
   "outputs": [
    {
     "data": {
      "text/html": [
       "<div>\n",
       "<style scoped>\n",
       "    .dataframe tbody tr th:only-of-type {\n",
       "        vertical-align: middle;\n",
       "    }\n",
       "\n",
       "    .dataframe tbody tr th {\n",
       "        vertical-align: top;\n",
       "    }\n",
       "\n",
       "    .dataframe thead th {\n",
       "        text-align: right;\n",
       "    }\n",
       "</style>\n",
       "<table border=\"1\" class=\"dataframe\">\n",
       "  <thead>\n",
       "    <tr style=\"text-align: right;\">\n",
       "      <th></th>\n",
       "      <th>Tests per 1M pop</th>\n",
       "      <th>Total Cases per 1M pop</th>\n",
       "      <th>Deaths per 1M pop</th>\n",
       "    </tr>\n",
       "  </thead>\n",
       "  <tbody>\n",
       "    <tr>\n",
       "      <th>Tests per 1M pop</th>\n",
       "      <td>1.000000</td>\n",
       "      <td>0.330444</td>\n",
       "      <td>0.073993</td>\n",
       "    </tr>\n",
       "    <tr>\n",
       "      <th>Total Cases per 1M pop</th>\n",
       "      <td>0.330444</td>\n",
       "      <td>1.000000</td>\n",
       "      <td>0.788400</td>\n",
       "    </tr>\n",
       "    <tr>\n",
       "      <th>Deaths per 1M pop</th>\n",
       "      <td>0.073993</td>\n",
       "      <td>0.788400</td>\n",
       "      <td>1.000000</td>\n",
       "    </tr>\n",
       "  </tbody>\n",
       "</table>\n",
       "</div>"
      ],
      "text/plain": [
       "                        Tests per 1M pop  Total Cases per 1M pop  \\\n",
       "Tests per 1M pop                1.000000                0.330444   \n",
       "Total Cases per 1M pop          0.330444                1.000000   \n",
       "Deaths per 1M pop               0.073993                0.788400   \n",
       "\n",
       "                        Deaths per 1M pop  \n",
       "Tests per 1M pop                 0.073993  \n",
       "Total Cases per 1M pop           0.788400  \n",
       "Deaths per 1M pop                1.000000  "
      ]
     },
     "execution_count": 15,
     "metadata": {},
     "output_type": "execute_result"
    }
   ],
   "source": [
    "covid_df[['Tests per 1M pop', 'Total Cases per 1M pop', 'Deaths per 1M pop']].corr()"
   ]
  },
  {
   "cell_type": "code",
   "execution_count": 16,
   "metadata": {
    "colab": {
     "base_uri": "https://localhost:8080/",
     "height": 700
    },
    "id": "oaj7zfnupX0N",
    "outputId": "525e4fc8-766e-4e7e-cc64-9c3c449061e9"
   },
   "outputs": [
    {
     "data": {
      "text/html": [
       "<div>\n",
       "<style scoped>\n",
       "    .dataframe tbody tr th:only-of-type {\n",
       "        vertical-align: middle;\n",
       "    }\n",
       "\n",
       "    .dataframe tbody tr th {\n",
       "        vertical-align: top;\n",
       "    }\n",
       "\n",
       "    .dataframe thead th {\n",
       "        text-align: right;\n",
       "    }\n",
       "</style>\n",
       "<table border=\"1\" class=\"dataframe\">\n",
       "  <thead>\n",
       "    <tr style=\"text-align: right;\">\n",
       "      <th></th>\n",
       "      <th>#</th>\n",
       "      <th>Country, Other</th>\n",
       "      <th>Total Cases</th>\n",
       "      <th>New Cases</th>\n",
       "      <th>Total Deaths</th>\n",
       "      <th>New Deaths</th>\n",
       "      <th>Total Recovered</th>\n",
       "      <th>Active Cases</th>\n",
       "      <th>Serious, Critical</th>\n",
       "      <th>Total Cases per 1M pop</th>\n",
       "      <th>Deaths per 1M pop</th>\n",
       "      <th>Total Tests</th>\n",
       "      <th>Tests per 1M pop</th>\n",
       "      <th>Population</th>\n",
       "    </tr>\n",
       "  </thead>\n",
       "  <tbody>\n",
       "    <tr>\n",
       "      <th>183</th>\n",
       "      <td>178</td>\n",
       "      <td>Burundi</td>\n",
       "      <td>1019.0</td>\n",
       "      <td>NaN</td>\n",
       "      <td>2.0</td>\n",
       "      <td>NaN</td>\n",
       "      <td>773.0</td>\n",
       "      <td>244.0</td>\n",
       "      <td>NaN</td>\n",
       "      <td>84.0</td>\n",
       "      <td>0.2</td>\n",
       "      <td>90019.0</td>\n",
       "      <td>7454.0</td>\n",
       "      <td>12076732.0</td>\n",
       "    </tr>\n",
       "    <tr>\n",
       "      <th>184</th>\n",
       "      <td>152</td>\n",
       "      <td>CAR</td>\n",
       "      <td>4973.0</td>\n",
       "      <td>NaN</td>\n",
       "      <td>63.0</td>\n",
       "      <td>NaN</td>\n",
       "      <td>4885.0</td>\n",
       "      <td>25.0</td>\n",
       "      <td>2.0</td>\n",
       "      <td>1020.0</td>\n",
       "      <td>13.0</td>\n",
       "      <td>35523.0</td>\n",
       "      <td>7288.0</td>\n",
       "      <td>4874274.0</td>\n",
       "    </tr>\n",
       "    <tr>\n",
       "      <th>185</th>\n",
       "      <td>158</td>\n",
       "      <td>South Sudan</td>\n",
       "      <td>3670.0</td>\n",
       "      <td>NaN</td>\n",
       "      <td>63.0</td>\n",
       "      <td>NaN</td>\n",
       "      <td>3181.0</td>\n",
       "      <td>426.0</td>\n",
       "      <td>1.0</td>\n",
       "      <td>326.0</td>\n",
       "      <td>6.0</td>\n",
       "      <td>80036.0</td>\n",
       "      <td>7106.0</td>\n",
       "      <td>11263567.0</td>\n",
       "    </tr>\n",
       "    <tr>\n",
       "      <th>186</th>\n",
       "      <td>139</td>\n",
       "      <td>Mali</td>\n",
       "      <td>7687.0</td>\n",
       "      <td>NaN</td>\n",
       "      <td>303.0</td>\n",
       "      <td>NaN</td>\n",
       "      <td>5354.0</td>\n",
       "      <td>2030.0</td>\n",
       "      <td>NaN</td>\n",
       "      <td>374.0</td>\n",
       "      <td>15.0</td>\n",
       "      <td>136739.0</td>\n",
       "      <td>6652.0</td>\n",
       "      <td>20557328.0</td>\n",
       "    </tr>\n",
       "    <tr>\n",
       "      <th>187</th>\n",
       "      <td>170</td>\n",
       "      <td>Eritrea</td>\n",
       "      <td>1596.0</td>\n",
       "      <td>NaN</td>\n",
       "      <td>6.0</td>\n",
       "      <td>NaN</td>\n",
       "      <td>934.0</td>\n",
       "      <td>656.0</td>\n",
       "      <td>NaN</td>\n",
       "      <td>447.0</td>\n",
       "      <td>2.0</td>\n",
       "      <td>23693.0</td>\n",
       "      <td>6632.0</td>\n",
       "      <td>3572503.0</td>\n",
       "    </tr>\n",
       "    <tr>\n",
       "      <th>188</th>\n",
       "      <td>204</td>\n",
       "      <td>Macao</td>\n",
       "      <td>46.0</td>\n",
       "      <td>NaN</td>\n",
       "      <td>NaN</td>\n",
       "      <td>NaN</td>\n",
       "      <td>46.0</td>\n",
       "      <td>0.0</td>\n",
       "      <td>NaN</td>\n",
       "      <td>70.0</td>\n",
       "      <td>NaN</td>\n",
       "      <td>4238.0</td>\n",
       "      <td>6480.0</td>\n",
       "      <td>654039.0</td>\n",
       "    </tr>\n",
       "    <tr>\n",
       "      <th>189</th>\n",
       "      <td>211</td>\n",
       "      <td>Solomon Islands</td>\n",
       "      <td>17.0</td>\n",
       "      <td>NaN</td>\n",
       "      <td>NaN</td>\n",
       "      <td>NaN</td>\n",
       "      <td>10.0</td>\n",
       "      <td>7.0</td>\n",
       "      <td>NaN</td>\n",
       "      <td>24.0</td>\n",
       "      <td>NaN</td>\n",
       "      <td>4500.0</td>\n",
       "      <td>6468.0</td>\n",
       "      <td>695764.0</td>\n",
       "    </tr>\n",
       "    <tr>\n",
       "      <th>190</th>\n",
       "      <td>181</td>\n",
       "      <td>Taiwan</td>\n",
       "      <td>842.0</td>\n",
       "      <td>4.0</td>\n",
       "      <td>7.0</td>\n",
       "      <td>NaN</td>\n",
       "      <td>731.0</td>\n",
       "      <td>104.0</td>\n",
       "      <td>NaN</td>\n",
       "      <td>35.0</td>\n",
       "      <td>0.3</td>\n",
       "      <td>133617.0</td>\n",
       "      <td>5605.0</td>\n",
       "      <td>23839869.0</td>\n",
       "    </tr>\n",
       "    <tr>\n",
       "      <th>191</th>\n",
       "      <td>92</td>\n",
       "      <td>Afghanistan</td>\n",
       "      <td>53774.0</td>\n",
       "      <td>84.0</td>\n",
       "      <td>2317.0</td>\n",
       "      <td>9.0</td>\n",
       "      <td>44850.0</td>\n",
       "      <td>6607.0</td>\n",
       "      <td>693.0</td>\n",
       "      <td>1365.0</td>\n",
       "      <td>59.0</td>\n",
       "      <td>219861.0</td>\n",
       "      <td>5581.0</td>\n",
       "      <td>39391241.0</td>\n",
       "    </tr>\n",
       "    <tr>\n",
       "      <th>192</th>\n",
       "      <td>105</td>\n",
       "      <td>Cameroon</td>\n",
       "      <td>27336.0</td>\n",
       "      <td>NaN</td>\n",
       "      <td>451.0</td>\n",
       "      <td>NaN</td>\n",
       "      <td>24892.0</td>\n",
       "      <td>1993.0</td>\n",
       "      <td>46.0</td>\n",
       "      <td>1016.0</td>\n",
       "      <td>17.0</td>\n",
       "      <td>149000.0</td>\n",
       "      <td>5540.0</td>\n",
       "      <td>26894127.0</td>\n",
       "    </tr>\n",
       "    <tr>\n",
       "      <th>193</th>\n",
       "      <td>112</td>\n",
       "      <td>Angola</td>\n",
       "      <td>18343.0</td>\n",
       "      <td>NaN</td>\n",
       "      <td>422.0</td>\n",
       "      <td>NaN</td>\n",
       "      <td>15512.0</td>\n",
       "      <td>2409.0</td>\n",
       "      <td>17.0</td>\n",
       "      <td>549.0</td>\n",
       "      <td>13.0</td>\n",
       "      <td>174111.0</td>\n",
       "      <td>5213.0</td>\n",
       "      <td>33402528.0</td>\n",
       "    </tr>\n",
       "    <tr>\n",
       "      <th>194</th>\n",
       "      <td>133</td>\n",
       "      <td>Malawi</td>\n",
       "      <td>9400.0</td>\n",
       "      <td>373.0</td>\n",
       "      <td>254.0</td>\n",
       "      <td>19.0</td>\n",
       "      <td>5854.0</td>\n",
       "      <td>3292.0</td>\n",
       "      <td>4.0</td>\n",
       "      <td>485.0</td>\n",
       "      <td>13.0</td>\n",
       "      <td>97429.0</td>\n",
       "      <td>5025.0</td>\n",
       "      <td>19390294.0</td>\n",
       "    </tr>\n",
       "    <tr>\n",
       "      <th>195</th>\n",
       "      <td>79</td>\n",
       "      <td>Nigeria</td>\n",
       "      <td>102601.0</td>\n",
       "      <td>NaN</td>\n",
       "      <td>1373.0</td>\n",
       "      <td>NaN</td>\n",
       "      <td>81574.0</td>\n",
       "      <td>19654.0</td>\n",
       "      <td>10.0</td>\n",
       "      <td>491.0</td>\n",
       "      <td>7.0</td>\n",
       "      <td>1033858.0</td>\n",
       "      <td>4951.0</td>\n",
       "      <td>208832577.0</td>\n",
       "    </tr>\n",
       "    <tr>\n",
       "      <th>196</th>\n",
       "      <td>183</td>\n",
       "      <td>Papua New Guinea</td>\n",
       "      <td>823.0</td>\n",
       "      <td>NaN</td>\n",
       "      <td>9.0</td>\n",
       "      <td>NaN</td>\n",
       "      <td>755.0</td>\n",
       "      <td>59.0</td>\n",
       "      <td>NaN</td>\n",
       "      <td>91.0</td>\n",
       "      <td>1.0</td>\n",
       "      <td>39761.0</td>\n",
       "      <td>4400.0</td>\n",
       "      <td>9036748.0</td>\n",
       "    </tr>\n",
       "    <tr>\n",
       "      <th>197</th>\n",
       "      <td>129</td>\n",
       "      <td>Haiti</td>\n",
       "      <td>10415.0</td>\n",
       "      <td>NaN</td>\n",
       "      <td>238.0</td>\n",
       "      <td>NaN</td>\n",
       "      <td>8840.0</td>\n",
       "      <td>1337.0</td>\n",
       "      <td>NaN</td>\n",
       "      <td>908.0</td>\n",
       "      <td>21.0</td>\n",
       "      <td>43211.0</td>\n",
       "      <td>3765.0</td>\n",
       "      <td>11476479.0</td>\n",
       "    </tr>\n",
       "    <tr>\n",
       "      <th>198</th>\n",
       "      <td>113</td>\n",
       "      <td>Madagascar</td>\n",
       "      <td>18001.0</td>\n",
       "      <td>NaN</td>\n",
       "      <td>267.0</td>\n",
       "      <td>NaN</td>\n",
       "      <td>17447.0</td>\n",
       "      <td>287.0</td>\n",
       "      <td>16.0</td>\n",
       "      <td>641.0</td>\n",
       "      <td>10.0</td>\n",
       "      <td>102830.0</td>\n",
       "      <td>3664.0</td>\n",
       "      <td>28065975.0</td>\n",
       "    </tr>\n",
       "    <tr>\n",
       "      <th>199</th>\n",
       "      <td>156</td>\n",
       "      <td>Niger</td>\n",
       "      <td>3969.0</td>\n",
       "      <td>NaN</td>\n",
       "      <td>135.0</td>\n",
       "      <td>NaN</td>\n",
       "      <td>2507.0</td>\n",
       "      <td>1327.0</td>\n",
       "      <td>3.0</td>\n",
       "      <td>161.0</td>\n",
       "      <td>5.0</td>\n",
       "      <td>67052.0</td>\n",
       "      <td>2719.0</td>\n",
       "      <td>24664421.0</td>\n",
       "    </tr>\n",
       "    <tr>\n",
       "      <th>200</th>\n",
       "      <td>168</td>\n",
       "      <td>Yemen</td>\n",
       "      <td>2107.0</td>\n",
       "      <td>NaN</td>\n",
       "      <td>612.0</td>\n",
       "      <td>NaN</td>\n",
       "      <td>1416.0</td>\n",
       "      <td>79.0</td>\n",
       "      <td>23.0</td>\n",
       "      <td>70.0</td>\n",
       "      <td>20.0</td>\n",
       "      <td>17404.0</td>\n",
       "      <td>577.0</td>\n",
       "      <td>30172929.0</td>\n",
       "    </tr>\n",
       "    <tr>\n",
       "      <th>201</th>\n",
       "      <td>\\r</td>\n",
       "      <td>NaN</td>\n",
       "      <td>NaN</td>\n",
       "      <td>NaN</td>\n",
       "      <td>NaN</td>\n",
       "      <td>NaN</td>\n",
       "      <td>NaN</td>\n",
       "      <td>NaN</td>\n",
       "      <td>NaN</td>\n",
       "      <td>NaN</td>\n",
       "      <td>NaN</td>\n",
       "      <td>NaN</td>\n",
       "      <td>NaN</td>\n",
       "      <td>NaN</td>\n",
       "    </tr>\n",
       "    <tr>\n",
       "      <th>202</th>\n",
       "      <td>NaN</td>\n",
       "      <td>Total:</td>\n",
       "      <td>92414520.0</td>\n",
       "      <td>418662.0</td>\n",
       "      <td>1978954.0</td>\n",
       "      <td>10040.0</td>\n",
       "      <td>66054534.0</td>\n",
       "      <td>24381032.0</td>\n",
       "      <td>110689.0</td>\n",
       "      <td>11855.9</td>\n",
       "      <td>253.9</td>\n",
       "      <td>NaN</td>\n",
       "      <td>NaN</td>\n",
       "      <td>NaN</td>\n",
       "    </tr>\n",
       "  </tbody>\n",
       "</table>\n",
       "</div>"
      ],
      "text/plain": [
       "       #    Country, Other  Total Cases  New Cases  Total Deaths  New Deaths  \\\n",
       "183  178           Burundi       1019.0        NaN           2.0         NaN   \n",
       "184  152               CAR       4973.0        NaN          63.0         NaN   \n",
       "185  158       South Sudan       3670.0        NaN          63.0         NaN   \n",
       "186  139              Mali       7687.0        NaN         303.0         NaN   \n",
       "187  170           Eritrea       1596.0        NaN           6.0         NaN   \n",
       "188  204             Macao         46.0        NaN           NaN         NaN   \n",
       "189  211   Solomon Islands         17.0        NaN           NaN         NaN   \n",
       "190  181            Taiwan        842.0        4.0           7.0         NaN   \n",
       "191   92       Afghanistan      53774.0       84.0        2317.0         9.0   \n",
       "192  105          Cameroon      27336.0        NaN         451.0         NaN   \n",
       "193  112            Angola      18343.0        NaN         422.0         NaN   \n",
       "194  133            Malawi       9400.0      373.0         254.0        19.0   \n",
       "195   79           Nigeria     102601.0        NaN        1373.0         NaN   \n",
       "196  183  Papua New Guinea        823.0        NaN           9.0         NaN   \n",
       "197  129             Haiti      10415.0        NaN         238.0         NaN   \n",
       "198  113        Madagascar      18001.0        NaN         267.0         NaN   \n",
       "199  156             Niger       3969.0        NaN         135.0         NaN   \n",
       "200  168             Yemen       2107.0        NaN         612.0         NaN   \n",
       "201   \\r               NaN          NaN        NaN           NaN         NaN   \n",
       "202  NaN            Total:   92414520.0   418662.0     1978954.0     10040.0   \n",
       "\n",
       "     Total Recovered  Active Cases  Serious, Critical  Total Cases per 1M pop  \\\n",
       "183            773.0         244.0                NaN                    84.0   \n",
       "184           4885.0          25.0                2.0                  1020.0   \n",
       "185           3181.0         426.0                1.0                   326.0   \n",
       "186           5354.0        2030.0                NaN                   374.0   \n",
       "187            934.0         656.0                NaN                   447.0   \n",
       "188             46.0           0.0                NaN                    70.0   \n",
       "189             10.0           7.0                NaN                    24.0   \n",
       "190            731.0         104.0                NaN                    35.0   \n",
       "191          44850.0        6607.0              693.0                  1365.0   \n",
       "192          24892.0        1993.0               46.0                  1016.0   \n",
       "193          15512.0        2409.0               17.0                   549.0   \n",
       "194           5854.0        3292.0                4.0                   485.0   \n",
       "195          81574.0       19654.0               10.0                   491.0   \n",
       "196            755.0          59.0                NaN                    91.0   \n",
       "197           8840.0        1337.0                NaN                   908.0   \n",
       "198          17447.0         287.0               16.0                   641.0   \n",
       "199           2507.0        1327.0                3.0                   161.0   \n",
       "200           1416.0          79.0               23.0                    70.0   \n",
       "201              NaN           NaN                NaN                     NaN   \n",
       "202       66054534.0    24381032.0           110689.0                 11855.9   \n",
       "\n",
       "     Deaths per 1M pop  Total Tests  Tests per 1M pop   Population  \n",
       "183                0.2      90019.0            7454.0   12076732.0  \n",
       "184               13.0      35523.0            7288.0    4874274.0  \n",
       "185                6.0      80036.0            7106.0   11263567.0  \n",
       "186               15.0     136739.0            6652.0   20557328.0  \n",
       "187                2.0      23693.0            6632.0    3572503.0  \n",
       "188                NaN       4238.0            6480.0     654039.0  \n",
       "189                NaN       4500.0            6468.0     695764.0  \n",
       "190                0.3     133617.0            5605.0   23839869.0  \n",
       "191               59.0     219861.0            5581.0   39391241.0  \n",
       "192               17.0     149000.0            5540.0   26894127.0  \n",
       "193               13.0     174111.0            5213.0   33402528.0  \n",
       "194               13.0      97429.0            5025.0   19390294.0  \n",
       "195                7.0    1033858.0            4951.0  208832577.0  \n",
       "196                1.0      39761.0            4400.0    9036748.0  \n",
       "197               21.0      43211.0            3765.0   11476479.0  \n",
       "198               10.0     102830.0            3664.0   28065975.0  \n",
       "199                5.0      67052.0            2719.0   24664421.0  \n",
       "200               20.0      17404.0             577.0   30172929.0  \n",
       "201                NaN          NaN               NaN          NaN  \n",
       "202              253.9          NaN               NaN          NaN  "
      ]
     },
     "execution_count": 16,
     "metadata": {},
     "output_type": "execute_result"
    }
   ],
   "source": [
    "covidtest_df=covid_df.sort_values(by='Tests per 1M pop', ascending=False)\n",
    "covidtest_df.tail(20)"
   ]
  },
  {
   "cell_type": "code",
   "execution_count": 17,
   "metadata": {
    "id": "LgtzdRM2puc1"
   },
   "outputs": [],
   "source": [
    "covidtest_df = covidtest_df[covidtest_df['Tests per 1M pop'].notna()]\n",
    "covidtest_df = covidtest_df[covidtest_df['Total Cases per 1M pop'].notna()]\n",
    "covidtest_df = covidtest_df[covidtest_df['Deaths per 1M pop'].notna()]"
   ]
  },
  {
   "cell_type": "code",
   "execution_count": 18,
   "metadata": {
    "colab": {
     "base_uri": "https://localhost:8080/"
    },
    "id": "rTrV-Heop4F2",
    "outputId": "f7d656dc-2572-43b4-e8d5-3aadc0089168"
   },
   "outputs": [
    {
     "name": "stdout",
     "output_type": "stream",
     "text": [
      "(187, 14)\n",
      "(61, 14)\n",
      "(61, 14)\n",
      "(81, 14)\n"
     ]
    }
   ],
   "source": [
    "print(covidtest_df.shape)\n",
    "H_test = covidtest_df.iloc[0:61]\n",
    "print(H_test.shape)\n",
    "M_test = covid_df.iloc[61:122]\n",
    "print(M_test.shape)\n",
    "L_test = covid_df.iloc[122:232]\n",
    "print(L_test.shape)"
   ]
  },
  {
   "cell_type": "code",
   "execution_count": 19,
   "metadata": {
    "colab": {
     "base_uri": "https://localhost:8080/"
    },
    "id": "zyP4WwgC8X44",
    "outputId": "140b493d-dc59-4f64-e2ad-e7085dd7fae7"
   },
   "outputs": [
    {
     "name": "stderr",
     "output_type": "stream",
     "text": [
      "/Users/vahida/opt/anaconda3/lib/python3.8/site-packages/pandas/core/generic.py:6245: SettingWithCopyWarning: \n",
      "A value is trying to be set on a copy of a slice from a DataFrame\n",
      "\n",
      "See the caveats in the documentation: https://pandas.pydata.org/pandas-docs/stable/user_guide/indexing.html#returning-a-view-versus-a-copy\n",
      "  self._update_inplace(new_data)\n"
     ]
    }
   ],
   "source": [
    "M_test.fillna(M_test.mean(), inplace=True)\n",
    "L_test.fillna(M_test.mean(), inplace=True)"
   ]
  },
  {
   "cell_type": "code",
   "execution_count": 20,
   "metadata": {
    "colab": {
     "base_uri": "https://localhost:8080/",
     "height": 268
    },
    "id": "cjcFYXFLqhnh",
    "outputId": "8ae89bee-e3d0-4d90-d561-cac9181df4b2"
   },
   "outputs": [
    {
     "data": {
      "image/png": "[encoded data removed]",
      "text/plain": [
       "<Figure size 432x288 with 1 Axes>"
      ]
     },
     "metadata": {
      "needs_background": "light"
     },
     "output_type": "display_data"
    }
   ],
   "source": [
    "plt.hist(covidtest_df['Deaths per 1M pop'])\n",
    "plt.show()"
   ]
  },
  {
   "cell_type": "code",
   "execution_count": 21,
   "metadata": {
    "colab": {
     "base_uri": "https://localhost:8080/",
     "height": 334
    },
    "id": "SiVjV8cy3y-T",
    "outputId": "13ab6a20-5e18-46d9-fce7-69ab8c2f00a4"
   },
   "outputs": [
    {
     "data": {
      "image/png": "[encoded data removed]",
      "text/plain": [
       "<Figure size 432x288 with 1 Axes>"
      ]
     },
     "metadata": {
      "needs_background": "light"
     },
     "output_type": "display_data"
    }
   ],
   "source": [
    "ax = sns.distplot(covidtest_df['Deaths per 1M pop'])"
   ]
  },
  {
   "cell_type": "code",
   "execution_count": 22,
   "metadata": {
    "colab": {
     "base_uri": "https://localhost:8080/",
     "height": 265
    },
    "id": "43VP05Hxq-TO",
    "outputId": "79130989-11ff-4568-8600-c51ce4793fbd"
   },
   "outputs": [
    {
     "data": {
      "image/png": "[encoded data removed]",
      "text/plain": [
       "<Figure size 432x288 with 1 Axes>"
      ]
     },
     "metadata": {
      "needs_background": "light"
     },
     "output_type": "display_data"
    }
   ],
   "source": [
    "plt.hist(H_test['Total Cases per 1M pop'], alpha = .5, label = \"High\")\n",
    "plt.hist(M_test['Total Cases per 1M pop'], alpha = .5, label = \"Medium\")\n",
    "plt.hist(L_test['Total Cases per 1M pop'], alpha = .5, label = \"Low\")\n",
    "plt.legend(loc=\"upper right\")\n",
    "plt.show()"
   ]
  },
  {
   "cell_type": "code",
   "execution_count": 23,
   "metadata": {
    "colab": {
     "base_uri": "https://localhost:8080/",
     "height": 265
    },
    "id": "xxEhv5m7q5O5",
    "outputId": "cb63f1bb-eb2a-4e90-af1b-9c792fbec7d8"
   },
   "outputs": [
    {
     "data": {
      "image/png": "[encoded data removed]",
      "text/plain": [
       "<Figure size 432x288 with 1 Axes>"
      ]
     },
     "metadata": {
      "needs_background": "light"
     },
     "output_type": "display_data"
    }
   ],
   "source": [
    "plt.hist(H_test['Deaths per 1M pop'], alpha = .5, label = \"High\")\n",
    "plt.hist(M_test['Deaths per 1M pop'], alpha = .5, label = \"Medium\")\n",
    "plt.hist(L_test['Deaths per 1M pop'], alpha = .5, label = \"Low\")\n",
    "plt.legend(loc=\"upper right\")\n",
    "plt.show()"
   ]
  },
  {
   "cell_type": "code",
   "execution_count": 24,
   "metadata": {
    "colab": {
     "base_uri": "https://localhost:8080/"
    },
    "id": "86DPlewQrjpy",
    "outputId": "67b312a3-3d40-4d28-e8f0-27bd2bdc8478"
   },
   "outputs": [
    {
     "name": "stdout",
     "output_type": "stream",
     "text": [
      "DescribeResult(nobs=61, minmax=(1.0, 1914.0), mean=554.5573770491803, variance=235644.8508196721, skewness=0.8154267025213013, kurtosis=-0.23031313534159725)\n",
      "DescribeResult(nobs=61, minmax=(0.6, 1345.0), mean=423.52857142857135, variance=143531.90190476188, skewness=0.8484500174660172, kurtosis=-0.3601419275981024)\n",
      "DescribeResult(nobs=81, minmax=(0.2, 1046.0), mean=134.64814814814815, variance=42113.09534920635, skewness=2.2220254534944455, kurtosis=5.33775273848898)\n"
     ]
    }
   ],
   "source": [
    "print(stats.describe(H_test['Deaths per 1M pop']))\n",
    "print(stats.describe(M_test['Deaths per 1M pop']))\n",
    "print(stats.describe(L_test['Deaths per 1M pop']))"
   ]
  },
  {
   "cell_type": "code",
   "execution_count": 25,
   "metadata": {
    "colab": {
     "base_uri": "https://localhost:8080/"
    },
    "id": "Otk2p41Xrksk",
    "outputId": "3313e17a-2898-4457-839e-fd5ee53f8ddb"
   },
   "outputs": [
    {
     "name": "stdout",
     "output_type": "stream",
     "text": [
      "KruskalResult(statistic=51.62456958685288, pvalue=6.164064137026368e-12)\n"
     ]
    }
   ],
   "source": [
    "print(stats.kruskal(H_test['Deaths per 1M pop'], M_test['Deaths per 1M pop'], L_test['Deaths per 1M pop']))"
   ]
  },
  {
   "cell_type": "code",
   "execution_count": 26,
   "metadata": {
    "colab": {
     "base_uri": "https://localhost:8080/"
    },
    "id": "tjjq_vmnrkjp",
    "outputId": "4e8a4a6d-cd8d-4646-f871-3e88424f67c5"
   },
   "outputs": [
    {
     "name": "stdout",
     "output_type": "stream",
     "text": [
      "MannwhitneyuResult(statistic=884.5, pvalue=3.187761115398622e-11)\n",
      "MannwhitneyuResult(statistic=1595.5, pvalue=0.08780196092065667)\n",
      "MannwhitneyuResult(statistic=1155.5, pvalue=3.016145066573074e-08)\n"
     ]
    }
   ],
   "source": [
    "print(stats.mannwhitneyu(x=H_test['Deaths per 1M pop'], y=L_test['Deaths per 1M pop']))\n",
    "print(stats.mannwhitneyu(x=H_test['Deaths per 1M pop'], y=M_test['Deaths per 1M pop']))\n",
    "print(stats.mannwhitneyu(x=M_test['Deaths per 1M pop'], y=L_test['Deaths per 1M pop']))"
   ]
  }
 ],
 "metadata": {
  "colab": {
   "name": "Untitled10.ipynb",
   "provenance": []
  },
  "kernelspec": {
   "display_name": "Python 3",
   "language": "python",
   "name": "python3"
  },
  "language_info": {
   "codemirror_mode": {
    "name": "ipython",
    "version": 3
   },
   "file_extension": ".py",
   "mimetype": "text/x-python",
   "name": "python",
   "nbconvert_exporter": "python",
   "pygments_lexer": "ipython3",
   "version": "3.8.3"
  }
 },
 "nbformat": 4,
 "nbformat_minor": 1
}
